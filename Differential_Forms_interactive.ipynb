{
 "cells": [
  {
   "cell_type": "markdown",
   "metadata": {},
   "source": [
    "# Differential Forms"
   ]
  },
  {
   "cell_type": "code",
   "execution_count": 1,
   "metadata": {
    "collapsed": false,
    "jupyter": {
     "outputs_hidden": false
    }
   },
   "outputs": [],
   "source": [
    "import ipywidgets as widgets\n",
    "from ipywidgets import interactive\n",
    "import seaborn as sns\n",
    "from pathlib import Path\n",
    "from datetime import date\n",
    "import numpy as np\n",
    "from drawings.Phasor import Phasor\n",
    "import os\n",
    "from utils import timeline\n",
    "\n",
    "import matplotlib.colors as mcolors\n",
    "col = mcolors.BASE_COLORS\n",
    "from IPython.display import display\n",
    "from drawings.Canvas import DrawingCanvas\n",
    "\n",
    "%matplotlib inline\n",
    "\n",
    "np.set_printoptions(suppress=True)\n",
    "sns.set_theme()\n",
    "\n",
    "draw_path = Path(\"images\")\n",
    "draw_path.mkdir(exist_ok=True)\n",
    "\n",
    "today_path = draw_path / date.today().strftime(\"%d-%m-%y\")\n",
    "today_path.mkdir(exist_ok=True)\n",
    "os.environ[\"today_path\"] = str(today_path)"
   ]
  },
  {
   "cell_type": "code",
   "execution_count": 2,
   "metadata": {
    "collapsed": false,
    "jupyter": {
     "outputs_hidden": false
    }
   },
   "outputs": [],
   "source": [
    "def plot_phasor(t, x_c, y_c, r, per, phase, line):\n",
    "    a = Phasor(time=timeline(t_max=t,dt=0.1), x_cent=x_c, y_cent=y_c, radius=r, period=per, phase=phase )\n",
    "    a.plot(linecolor=line)\n",
    "\n",
    "def int_slider(val, desc, min_val=0, max_val=100, step=1, orient=\"horizontal\"):\n",
    "    w = widgets.BoundedIntText(\n",
    "        value=val,\n",
    "        min=min_val,\n",
    "        max=max_val,\n",
    "        step=step,\n",
    "        description=desc,\n",
    "        continuous_update=True,\n",
    "        readout=True,\n",
    "        readout_format='.1f')\n",
    "    return w\n",
    "\n",
    "def float_slider(val, desc, min_val=0, max_val=100, step=0.5, orient=\"horizontal\"):\n",
    "    w = widgets.BoundedFloatText(\n",
    "        value=val,\n",
    "        min=min_val,\n",
    "        max=max_val,\n",
    "        step=step,\n",
    "        description=desc,\n",
    "        continuous_update=True,\n",
    "        readout=True,\n",
    "        readout_format='.1f')\n",
    "    return w\n",
    "\n",
    "def dropdown_color_widget():\n",
    "    w = widgets.Dropdown(\n",
    "        options=[(\"Blue\",\"b\"),\n",
    "                (\"Green\", \"g\"),\n",
    "                (\"Red\", \"r\"),\n",
    "                (\"Cyan\", \"c\"),\n",
    "                (\"Magenta\", \"m\"),\n",
    "                (\"Yellow\", \"y\"),\n",
    "                (\"Black\", \"k\"),\n",
    "                ],\n",
    "        value='k',\n",
    "        description='Linecolor:',\n",
    "    \n",
    "    disabled=False)\n",
    "    return w\n",
    "\n",
    "def dropdown_phase_widget():\n",
    "    w = widgets.Dropdown(\n",
    "        options=[(r'\\(0\\)',0),\n",
    "                (r'\\(\\pi / 4 \\)', 4 ),\n",
    "                (r'\\(\\pi / 2  \\)', 3),\n",
    "                (r'\\(\\pi \\)',5)],\n",
    "        value='3',\n",
    "        description='Linecolor:',\n",
    "    \n",
    "    disabled=False)\n",
    "    return w"
   ]
  },
  {
   "cell_type": "code",
   "execution_count": 3,
   "metadata": {},
   "outputs": [],
   "source": [
    "def draw_2_phasors(t_max, dt, x_ac, y_ac, r_a, per_a, phase_a, r_b, per_b, phase_b):\n",
    "    \n",
    "    button = widgets.Button(\n",
    "        description='Save Plot',\n",
    "        disabled=False,\n",
    "        button_style='', # 'success', 'info', 'warning', 'danger' or ''\n",
    "        tooltip='Save Plot',\n",
    "    )\n",
    "    output = widgets.Output()\n",
    "\n",
    "    display(button, output)\n",
    "\n",
    "    def on_button_clicked(b):\n",
    "        with output:\n",
    "            try:\n",
    "                canv.plot(save=True, show=False)\n",
    "                b.button_style = \"success\"\n",
    "                b.description=\"Success\"\n",
    "                b.icon = 'check'\n",
    "            except:\n",
    "                b.button_style = \"warning\"\n",
    "                b.description=\"Fail\"\n",
    "                b.icon = 'xmark'\n",
    "                \n",
    "            \n",
    "\n",
    "    button.on_click(on_button_clicked)\n",
    "    \n",
    "    \n",
    "    time = timeline(t_max = t_max,dt = dt)\n",
    "    \n",
    "    a = Phasor(time = time, \n",
    "               x_cent = x_ac,\n",
    "               y_cent = y_ac,\n",
    "               radius = r_a,\n",
    "               period = per_a,\n",
    "               phase = phase_a)\n",
    "    \n",
    "    b = Phasor(time = time, \n",
    "               x_cent = a.x,\n",
    "               y_cent = a.y,\n",
    "               radius = r_b,\n",
    "               period = per_b,\n",
    "               phase = phase_b)\n",
    "    \n",
    "    canv = DrawingCanvas().add([a, b])\n",
    "    canv.plot()\n",
    "    "
   ]
  },
  {
   "cell_type": "code",
   "execution_count": 4,
   "metadata": {},
   "outputs": [
    {
     "data": {
      "text/plain": "interactive(children=(BoundedIntText(value=100, continuous_update=True, description='\\\\(Time \\\\quad [s]\\\\)', m…",
      "application/vnd.jupyter.widget-view+json": {
       "version_major": 2,
       "version_minor": 0,
       "model_id": "b2e505d2664546b9933668834e35e8a4"
      }
     },
     "execution_count": 4,
     "metadata": {},
     "output_type": "execute_result"
    }
   ],
   "source": [
    "interactive(draw_2_phasors, \n",
    "            t_max=int_slider(val = 100, desc=\"\\(Time \\quad [s]\\)\", min_val=1, max_val=500),\n",
    "            dt = float_slider(val = 0.05, desc=r'\\(dt \\)', min_val=0.000, max_val=1, step=0.01), \n",
    "            x_ac = float_slider(val = 0, desc=r'\\(x_{a} ^c\\)', min_val=-50, max_val=50), \n",
    "            y_ac = float_slider(val = 0, desc=r'\\(y_{a} ^c\\)', min_val=-50, max_val=50), \n",
    "            r_a = float_slider(val = 15, desc=r'\\(r_{a} \\)', min_val=1, max_val=20),\n",
    "            per_a = float_slider(val = 50, desc=\"\\(T_a\\) \", min_val=-50, max_val=50),\n",
    "            phase_a = float_slider(val = 0, desc=r\"\\(\\phi_a \\in [0,2\\pi]\\) \", min_val=0, max_val=2*np.pi),\n",
    "            # linecolor_a = dropdown_color_widget,\n",
    "            r_b = float_slider(val = 2, desc=r'\\(r_b\\)', min_val=1, max_val=20, step=0.01),\n",
    "            per_b = float_slider(val = 0.5, desc=r\"\\(T_b\\)\", min_val=-50, max_val=50, step=0.01), \n",
    "            phase_b = float_slider(val = 0, desc= r\"\\(\\phi_b \\in [0,2\\pi]\\) \", min_val=0, max_val=2*np.pi),\n",
    "            # linecolor_b = dropdown_color_widget\n",
    "            )\n"
   ]
  },
  {
   "cell_type": "code",
   "execution_count": null,
   "metadata": {},
   "outputs": [],
   "source": []
  }
 ],
 "metadata": {
  "kernelspec": {
   "display_name": "Python 3 (ipykernel)",
   "language": "python",
   "name": "python3"
  },
  "language_info": {
   "codemirror_mode": {
    "name": "ipython",
    "version": 3
   },
   "file_extension": ".py",
   "mimetype": "text/x-python",
   "name": "python",
   "nbconvert_exporter": "python",
   "pygments_lexer": "ipython3",
   "version": "3.9.10"
  }
 },
 "nbformat": 4,
 "nbformat_minor": 4
}
