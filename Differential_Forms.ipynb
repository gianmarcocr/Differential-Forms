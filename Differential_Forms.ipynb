{
 "cells": [
  {
   "cell_type": "markdown",
   "source": [
    "# Differential Forms <img height=\"60\" src=\"sample_img/logo.png\" width=\"60\"/>"
   ],
   "metadata": {
    "collapsed": false
   }
  },
  {
   "cell_type": "markdown",
   "source": [
    "### Import"
   ],
   "metadata": {
    "collapsed": false
   },
   "execution_count": 1
  },
  {
   "cell_type": "code",
   "execution_count": null,
   "metadata": {
    "collapsed": true
   },
   "outputs": [],
   "source": [
    "import os\n",
    "from datetime import date\n",
    "from pathlib import Path\n",
    "\n",
    "import matplotlib\n",
    "import numpy as np\n",
    "import seaborn as sns\n",
    "\n",
    "from drawings.Phasor import Phasor, Pintograph\n",
    "from drawings.Canvas import DrawingCanvas\n",
    "from utils import timeline\n",
    "\n",
    "matplotlib.use('TkAgg')\n",
    "%matplotlib inline\n",
    "\n",
    "np.set_printoptions(suppress=True)\n",
    "sns.set_theme()\n",
    "\n",
    "draw_path = Path(\"images\")\n",
    "draw_path.mkdir(exist_ok=True)\n",
    "\n",
    "today_path = Path(\"images\") / date.today().strftime(\"%d-%m-%y\")\n",
    "today_path.mkdir(exist_ok=True)\n",
    "os.environ[\"today_path\"] = str(today_path)"
   ]
  },
  {
   "cell_type": "markdown",
   "source": [
    "## Drawings"
   ],
   "metadata": {
    "collapsed": false
   }
  },
  {
   "cell_type": "code",
   "execution_count": null,
   "outputs": [],
   "source": [
    "t = timeline(t_max=100, dt=1)\n",
    "tmax = 100.000001  # to include last tmax as last value\n",
    "dt = 0.01\n",
    "\n",
    "pi = np.pi\n",
    "tim = timeline(tmax, dt)\n",
    "u = tim / tmax\n",
    "T = tmax"
   ],
   "metadata": {
    "collapsed": false
   }
  },
  {
   "cell_type": "markdown",
   "source": [
    "How to plot multiple curves:\n",
    "- draw your curve as usual (kee in mind that when you do .rotate() you modify the starting curve, so if you want to rotate the same one multiple times you have to create it as many times)\n",
    "- add each curve to a DrawingCanvas (you can either add a list of curve or a single curve)\n",
    "- call DrawingCanvas.plot() where you can specify the colour of each curve, it can be either a RGB one (e.g. [1,0,0] for red) or matplotlib colours (\"r\"). For more details see [matplotlib docs](https://matplotlib.org/stable/tutorials/colors/colors.html)"
   ],
   "metadata": {
    "collapsed": false
   }
  },
  {
   "cell_type": "code",
   "execution_count": null,
   "outputs": [],
   "source": [
    "r1 = 1.3 + np.sin(2 * pi * u *0)\n",
    "r2 = 1. + np.sin(2 * pi * u)\n",
    "\n",
    "curve = Phasor(time=tim, x_cent=0, y_cent=0, radius=r1, period=1, phase=pi)\n",
    "curve2 = Phasor(time=tim, x_cent=8, y_cent=0, radius=r2, period=1, phase=0)\n",
    "pinto = Pintograph(curve1=curve, curve2=curve2, arm1=6.2, arm2=6.2, extension=0).rotate(4.5, 2.5, tmax, 0)\n",
    "pinto1 = Pintograph(curve1=pinto, curve2=curve2, arm1=6.2, arm2=6.2, extension=0).rotate(4.5, 2.5, tmax, 0.3)\n",
    "pinto2 = Pintograph(curve1=curve, curve2=curve2, arm1=6.2, arm2=6.2, extension=0).rotate(4.5, 2.5, tmax, 0.6)\n",
    "canv = DrawingCanvas().add([pinto, pinto1, pinto2])\n",
    "canv.plot(linecolor=[\"k\", \"b\", list(np.random.choice(range(1), size=3))], save=False, legend=True, logo=True)"
   ],
   "metadata": {
    "collapsed": false
   }
  },
  {
   "cell_type": "code",
   "execution_count": null,
   "outputs": [],
   "source": [],
   "metadata": {
    "collapsed": false
   }
  }
 ],
 "metadata": {
  "kernelspec": {
   "display_name": "Python 3",
   "language": "python",
   "name": "python3"
  },
  "language_info": {
   "codemirror_mode": {
    "name": "ipython",
    "version": 2
   },
   "file_extension": ".py",
   "mimetype": "text/x-python",
   "name": "python",
   "nbconvert_exporter": "python",
   "pygments_lexer": "ipython2",
   "version": "2.7.6"
  }
 },
 "nbformat": 4,
 "nbformat_minor": 0
}
